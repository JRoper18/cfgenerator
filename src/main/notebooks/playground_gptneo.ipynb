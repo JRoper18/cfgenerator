{
 "cells": [
  {
   "cell_type": "code",
   "execution_count": 1,
   "metadata": {},
   "outputs": [
    {
     "name": "stdout",
     "output_type": "stream",
     "text": [
      "4.11.3\n"
     ]
    },
    {
     "data": {
      "text/plain": [
       "Embedding(50259, 768)"
      ]
     },
     "execution_count": 1,
     "metadata": {},
     "output_type": "execute_result"
    }
   ],
   "source": [
    "from transformers import GPTNeoForCausalLM, GPT2Tokenizer\n",
    "import transformers\n",
    "print(transformers.__version__)\n",
    "model = GPTNeoForCausalLM.from_pretrained(\"./results\").cuda()\n",
    "tokenizer = GPT2Tokenizer.from_pretrained(\"./results\")\n",
    "# Resize the token embeddings because we've just added 3 new tokens \n",
    "model.resize_token_embeddings(len(tokenizer))"
   ]
  },
  {
   "cell_type": "code",
   "execution_count": 45,
   "metadata": {},
   "outputs": [
    {
     "name": "stderr",
     "output_type": "stream",
     "text": [
      "Setting `pad_token_id` to `eos_token_id`:50256 for open-end generation.\n"
     ]
    },
    {
     "name": "stdout",
     "output_type": "stream",
     "text": [
      "0: \n",
      "Inputs: \n",
      "z = [-10, -11, -9, 2, -12, 9, 16, 15, 1, 4]\n",
      "Output: \n",
      "16\n",
      "\n",
      "Program:\n",
      "z:=int\n",
      "z:=[int]\n",
      "d:=Map (+1) z\n",
      "Output: \n",
      "16\n",
      "\n",
      "Program: \n",
      "z:=int\n",
      "z:=int\n",
      "d:=Map (+1) z\n",
      "Output: \n",
      "16\n",
      "\n",
      "Program: \n",
      "z:=int\n",
      "z:=int\n",
      "d:=Map (+1) z\n",
      "Output: \n",
      "32\n",
      "\n",
      "Program: \n",
      "z:=int\n",
      "z:=int\n",
      "d:=Map (+1) z\n",
      "Output: \n",
      "32\n",
      "\n",
      "Program: \n",
      "z:=int\n",
      "z:=int\n",
      "d:=Map (+1) z\n",
      "Output: \n",
      "16\n",
      "\n",
      "Program: \n",
      "z:=int\n",
      "z:=Map (+1)\n",
      "d:=Map (+2)\n",
      "Output: \n",
      "32\n",
      "\n",
      "Program: \n",
      "z:=int\n",
      "z:=int\n",
      "d:=Map (+1)\n",
      "Output: \n",
      "16\n",
      "\n",
      "Program: \n",
      "z:=int\n",
      "z:=Map (+1)\n",
      "Output: \n",
      "20\n",
      "\n",
      "Program: \n",
      "z:=int\n",
      "z:=Map (+1)\n",
      "Output: \n",
      "16\n",
      "\n",
      "Program\n"
     ]
    }
   ],
   "source": [
    "seed_text = \"\"\"\n",
    "Inputs: \n",
    "z = [-10, -11, -9, 2, -12, 9, 16, 15, 1, 4]\n",
    "Output: \n",
    "16\n",
    "\n",
    "Program:\n",
    "\"\"\"\n",
    "\n",
    "input_tensor = tokenizer(seed_text, return_tensors=\"pt\").input_ids.cuda()\n",
    "outputs = model.generate(\n",
    "    input_tensor, \n",
    "    max_length=300,  \n",
    "    # num_return_sequences=5,\n",
    "    # no_repeat_ngram_size=2,\n",
    "    # repetition_penalty=1.5,\n",
    "    top_p=0.95,\n",
    "    temperature=.15,\n",
    "    do_sample=True,\n",
    "    top_k=50,\n",
    "    # early_stopping=False\n",
    ")\n",
    "# Print generated descriptions\n",
    "for i, output in enumerate(outputs): \n",
    "    print(\"{}: {}\".format(i, tokenizer.decode(output)))\n"
   ]
  }
 ],
 "metadata": {
  "interpreter": {
   "hash": "2282e338ecec3ece71c2002cd0caa8a2ea177485a557703c3a2b1c6e231f9179"
  },
  "kernelspec": {
   "display_name": "Python 3.8.11 64-bit ('gpt': conda)",
   "name": "python3"
  },
  "language_info": {
   "codemirror_mode": {
    "name": "ipython",
    "version": 3
   },
   "file_extension": ".py",
   "mimetype": "text/x-python",
   "name": "python",
   "nbconvert_exporter": "python",
   "pygments_lexer": "ipython3",
   "version": "3.8.11"
  },
  "orig_nbformat": 4
 },
 "nbformat": 4,
 "nbformat_minor": 2
}
